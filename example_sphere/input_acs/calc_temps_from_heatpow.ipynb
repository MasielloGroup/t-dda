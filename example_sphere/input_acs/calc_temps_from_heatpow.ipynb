{
 "cells": [
  {
   "cell_type": "code",
   "execution_count": 1,
   "metadata": {},
   "outputs": [],
   "source": [
    "import numpy as np\n",
    "import matplotlib.pyplot as plt"
   ]
  },
  {
   "cell_type": "markdown",
   "metadata": {},
   "source": [
    "## Optical calculation\n",
    "I often like to drive my systems at / near the plasmon resonance. To find it, we can run a spectrum using `g-dda.`"
   ]
  },
  {
   "cell_type": "code",
   "execution_count": 2,
   "metadata": {},
   "outputs": [
    {
     "data": {
      "image/png": "[encoded data removed]",
      "text/plain": [
       "<Figure size 432x288 with 1 Axes>"
      ]
     },
     "metadata": {
      "needs_background": "light"
     },
     "output_type": "display_data"
    }
   ],
   "source": [
    "from make_sphere import Generate_Sphere\n",
    "\n",
    "lat_space = 1 # lattice spacing in nm\n",
    "radius = 5 # radius of sphere in nm\n",
    "\n",
    "gen_shape = Generate_Sphere(lat_space=lat_space, radius_nm=radius)\n",
    "gen_shape.write_shape() # write the shape to a file\n",
    "gen_shape.plot_shape() # plots the shape"
   ]
  },
  {
   "cell_type": "code",
   "execution_count": 3,
   "metadata": {},
   "outputs": [],
   "source": [
    "# Delete any previously run folders\n",
    "from make_dirs import make_directories\n",
    "import shutil\n",
    "import glob\n",
    "\n",
    "files = glob.glob('*eV')\n",
    "for f in files:\n",
    "    shutil.rmtree(f)\n"
   ]
  },
  {
   "cell_type": "markdown",
   "metadata": {},
   "source": [
    "### Step 2: Make directories\n",
    "After the shape is made, edit ddscat.par normally. (I haven't made anything fancy yet, so you'll have to go into that file and edit it by hand for now. Once you've edited ddscat.par appropriately, the function `make_directories` will make `num` number of folders which will contain your scattering calculations for each wavelength / energy."
   ]
  },
  {
   "cell_type": "code",
   "execution_count": 4,
   "metadata": {},
   "outputs": [],
   "source": [
    "make_directories(intermsof='eV', # eV or nm, only eV for now\n",
    "                 start=2, # start spectrum at 2.0 eV\n",
    "                 finish=3, # end spectrum at 3.0 eV\n",
    "                 num=50 # 50 points in between \n",
    "                )"
   ]
  },
  {
   "cell_type": "markdown",
   "metadata": {},
   "source": [
    "### Step 3: Run scattering calculation\n",
    "Change this path to wherever you've kept the `g-dda` executables. This will run all the `num` number of calculations. On a laptop, it should take less than a minute. "
   ]
  },
  {
   "cell_type": "code",
   "execution_count": 5,
   "metadata": {},
   "outputs": [],
   "source": [
    "%%bash\n",
    "for i in *eV ; do\n",
    "    cd $i\n",
    "    ../../../../g-dda/source_code/ddscat &> output.txt\n",
    "    cd ../\n",
    "done"
   ]
  },
  {
   "cell_type": "code",
   "execution_count": 6,
   "metadata": {},
   "outputs": [],
   "source": [
    "%%bash\n",
    "for i in *eV ;do\n",
    "    cd $i\n",
    "    cp qtable temp\n",
    "    sed -i -e \"1,14d\" temp\n",
    "    cat temp >>../Spectrum\n",
    "    rm temp\n",
    "    cd ../\n",
    "done\n"
   ]
  },
  {
   "cell_type": "markdown",
   "metadata": {},
   "source": [
    "### Step 4: Plot spectrum and find resonance\n"
   ]
  },
  {
   "cell_type": "code",
   "execution_count": 7,
   "metadata": {},
   "outputs": [
    {
     "name": "stdout",
     "output_type": "stream",
     "text": [
      "2.408\n"
     ]
    },
    {
     "data": {
      "image/png": "[encoded data removed]",
      "text/plain": [
       "<Figure size 432x288 with 1 Axes>"
      ]
     },
     "metadata": {
      "needs_background": "light"
     },
     "output_type": "display_data"
    }
   ],
   "source": [
    "spectrum = np.loadtxt('Spectrum')\n",
    "plt.scatter(spectrum[:,1]*1000, spectrum[:,3])\n",
    "plt.xlabel('Wavelength [nm]')\n",
    "plt.ylabel('Abs. Eff. [a.u.]')\n",
    "idx = np.where(spectrum[:,3] == max(spectrum[:,3]))\n",
    "\n",
    "max_wave = np.round(1.240/spectrum[idx,1][0][0],3)\n",
    "print(max_wave)\n",
    "\n",
    "# path = str('optical_calculation/')+str(max_wave)+str('_eV')\n",
    "# print(path)"
   ]
  },
  {
   "cell_type": "markdown",
   "metadata": {},
   "source": [
    "### Step 5: Copy inputs and run t-dda\n",
    "Once you've identified the maximum wavelength / energy, or the wavelength / energy you'd like to run the temperature calculation at, copy those files to a new directory and run `t-dda`. For the above specifications, `t-dda` should run on a laptop in less than a minute.\n"
   ]
  },
  {
   "cell_type": "code",
   "execution_count": 8,
   "metadata": {},
   "outputs": [
    {
     "name": "stdout",
     "output_type": "stream",
     "text": [
      "2.161258666037098e-05\n"
     ]
    }
   ],
   "source": [
    "%%bash \n",
    "\n",
    "cp 2.408_eV/qtable qtable\n",
    "python sphere_qabs.py"
   ]
  },
  {
   "cell_type": "code",
   "execution_count": 32,
   "metadata": {},
   "outputs": [
    {
     "name": "stdout",
     "output_type": "stream",
     "text": [
      "512\n"
     ]
    }
   ],
   "source": [
    "%%bash \n",
    "../../source_code/Lattice_Diffusion ../../lattice_greenfunction/Green.num_300x300x300 var.par tdda_input temp.out_300x300\n",
    "# ../../source_code/Lattice_Diffusion ../../lattice_greenfunction/Green20.txt var.par tdda_input temp.out_newGreen"
   ]
  },
  {
   "cell_type": "markdown",
   "metadata": {},
   "source": [
    "### Step 6: Plot the temperature maps\n",
    "`t-dda` is hardcoded to calculate the temperatures of all the discrete dipoles, as well as any points along the plane specified in the last line of `var.par`. We will plot this plane as a 2D image, or as a 1D slice in the codes below. "
   ]
  },
  {
   "cell_type": "code",
   "execution_count": 33,
   "metadata": {},
   "outputs": [
    {
     "data": {
      "text/plain": [
       "<matplotlib.image.AxesImage at 0x7fa4b25d8640>"
      ]
     },
     "execution_count": 33,
     "metadata": {},
     "output_type": "execute_result"
    },
    {
     "data": {
      "image/png": "[encoded data removed]",
      "text/plain": [
       "<Figure size 432x288 with 1 Axes>"
      ]
     },
     "metadata": {
      "needs_background": "light"
     },
     "output_type": "display_data"
    }
   ],
   "source": [
    "temp_data = np.loadtxt('temp.out')\n",
    "idx = np.where(temp_data[:,0] == -6)\n",
    "DS = 1\n",
    "y = temp_data[idx,1][0]*DS\n",
    "z = temp_data[idx,2][0]*DS\n",
    "T = temp_data[idx,3][0]\n",
    "\n",
    "idx_sort = np.lexsort((y, z))\n",
    "new_y = y[idx_sort]\n",
    "new_z = z[idx_sort]\n",
    "new_temps = T[idx_sort]\n",
    "y_wind = int(max(y/DS) - min(y/DS) + 1); z_wind = int(max(z/DS) - min(z/DS) + 1)\n",
    "temp_grid = new_temps.reshape(y_wind, z_wind, order='f')\n",
    "\n",
    "\n",
    "\n",
    "plt.imshow(temp_grid,origin='lower',cmap='inferno')\n",
    "\n"
   ]
  },
  {
   "cell_type": "code",
   "execution_count": 40,
   "metadata": {},
   "outputs": [
    {
     "name": "stdout",
     "output_type": "stream",
     "text": [
      "1.14 t-dda new\n",
      "1.14 t-dda 20x20\n",
      "1.14 t-dda 300x300\n",
      "1.15 anal\n"
     ]
    },
    {
     "data": {
      "image/png": "[encoded data removed]",
      "text/plain": [
       "<Figure size 432x288 with 1 Axes>"
      ]
     },
     "metadata": {
      "needs_background": "light"
     },
     "output_type": "display_data"
    }
   ],
   "source": [
    "temp_data = np.loadtxt('temp.out_newGreen')\n",
    "idx = np.where((temp_data[:,0] == -6) & (temp_data[:,1] == 0 ))\n",
    "DS = 1\n",
    "y = temp_data[idx,1][0]*DS\n",
    "z = temp_data[idx,2][0]*DS\n",
    "T = temp_data[idx,3][0]\n",
    "plt.scatter(z, T)\n",
    "print(\"%.2f\" % np.max(T),\"t-dda new\")\n",
    "\n",
    "temp_data = np.loadtxt('temp.out_20x20')\n",
    "idx = np.where((temp_data[:,0] == -6) & (temp_data[:,1] == 0 ))\n",
    "DS = 1\n",
    "y = temp_data[idx,1][0]*DS\n",
    "z = temp_data[idx,2][0]*DS\n",
    "T = temp_data[idx,3][0]\n",
    "plt.scatter(z, T)\n",
    "print(\"%.2f\" % np.max(T),\"t-dda 20x20\")\n",
    "\n",
    "temp_data = np.loadtxt('temp.out_300x300')\n",
    "idx = np.where((temp_data[:,0] == -6) & (temp_data[:,1] == 0 ))\n",
    "DS = 1\n",
    "y = temp_data[idx,1][0]*DS\n",
    "z = temp_data[idx,2][0]*DS\n",
    "T = temp_data[idx,3][0]\n",
    "plt.scatter(z, T)\n",
    "print(\"%.2f\" % np.max(T),\"t-dda 300x300\")\n",
    "\n",
    "kap_out = 0.3 # thermal cond. of background [W/(m*K)]\n",
    "kap_in = 314 # thermal cond. of metal [W/(m*K)]\n",
    "I0 = 1E9 # incident intensity [W/m^2]\n",
    "r = 0 # evaluate T at center of sphere\n",
    "Q = (2.161258666037098e-05)*(10**-6)**2*I0 # [W]\n",
    "radius_m = 5.E-9 # [m]\n",
    "T_analytic = Q/(4*np.pi*kap_out*radius_m) + Q/(8*np.pi*kap_in*radius_m**3)*(radius_m**2-r**2)\n",
    "\n",
    "plt.scatter(z, T*0+T_analytic)\n",
    "print(\"%.2f\" % T_analytic,\"anal\")\n"
   ]
  },
  {
   "cell_type": "code",
   "execution_count": 12,
   "metadata": {},
   "outputs": [
    {
     "name": "stdout",
     "output_type": "stream",
     "text": [
      "1.266624\n",
      "1.1403\n"
     ]
    },
    {
     "data": {
      "image/png": "[encoded data removed]",
      "text/plain": [
       "<Figure size 432x288 with 1 Axes>"
      ]
     },
     "metadata": {
      "needs_background": "light"
     },
     "output_type": "display_data"
    }
   ],
   "source": [
    "# withfields = np.loadtxt('../input_fp/temp.out')\n",
    "# idx = np.where((withfields[:,0] == -6) & (withfields[:,1] == 0 ))\n",
    "# DS = 1\n",
    "# y = withfields[idx,1][0]*DS\n",
    "# z = withfields[idx,2][0]*DS\n",
    "# T = withfields[idx,3][0]\n",
    "\n",
    "# plt.scatter(z, T,s=100, color='red')\n",
    "\n",
    "# print(max(T))\n",
    "\n",
    "# temp_data = np.loadtxt('temp.out')\n",
    "# idx = np.where((temp_data[:,0] == -6) & (temp_data[:,1] == 0 ))\n",
    "# DS = 1\n",
    "# y = temp_data[idx,1][0]*DS\n",
    "# z = temp_data[idx,2][0]*DS\n",
    "# T = temp_data[idx,3][0]\n",
    "\n",
    "# plt.scatter(z, T)\n",
    "\n",
    "\n",
    "\n",
    "# print(max(T))"
   ]
  },
  {
   "cell_type": "code",
   "execution_count": null,
   "metadata": {},
   "outputs": [],
   "source": []
  }
 ],
 "metadata": {
  "kernelspec": {
   "display_name": "Python 3",
   "language": "python",
   "name": "python3"
  },
  "language_info": {
   "codemirror_mode": {
    "name": "ipython",
    "version": 3
   },
   "file_extension": ".py",
   "mimetype": "text/x-python",
   "name": "python",
   "nbconvert_exporter": "python",
   "pygments_lexer": "ipython3",
   "version": "3.8.3"
  }
 },
 "nbformat": 4,
 "nbformat_minor": 4
}
