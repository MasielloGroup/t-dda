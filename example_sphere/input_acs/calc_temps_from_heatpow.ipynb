{
 "cells": [
  {
   "cell_type": "code",
   "execution_count": 24,
   "metadata": {},
   "outputs": [],
   "source": [
    "import numpy as np\n",
    "import matplotlib.pyplot as plt"
   ]
  },
  {
   "cell_type": "markdown",
   "metadata": {},
   "source": [
    "## Optical calculation\n",
    "I often like to drive my systems at / near the plasmon resonance. To find it, we can run a spectrum using `g-dda.`"
   ]
  },
  {
   "cell_type": "code",
   "execution_count": 3,
   "metadata": {},
   "outputs": [
    {
     "name": "stdout",
     "output_type": "stream",
     "text": [
      "x_min -11.0\n",
      "x_max -1.0\n",
      "y_min -5.0\n",
      "y_min 5.0\n",
      "z_min -5.0\n",
      "z_min 5.0\n"
     ]
    }
   ],
   "source": [
    "%%bash \n",
    "cd optical_calculation\n",
    "python make_sphere.py -w -l 1 -r 5\n",
    "wait\n",
    "python make_dirs.py"
   ]
  },
  {
   "cell_type": "code",
   "execution_count": 4,
   "metadata": {},
   "outputs": [],
   "source": [
    "%%bash\n",
    "cd optical_calculation\n",
    "for i in *eV ; do\n",
    "    cd $i\n",
    "    ../../../../../g-dda/source_code/ddscat &> output.txt\n",
    "    cd ../\n",
    "done"
   ]
  },
  {
   "cell_type": "code",
   "execution_count": 7,
   "metadata": {},
   "outputs": [],
   "source": [
    "%%bash\n",
    "for i in optical_calculation/*eV ;do\n",
    "    cd $i\n",
    "    cp qtable temp\n",
    "    sed -i -e \"1,14d\" temp\n",
    "    cat temp >>../Spectrum\n",
    "    rm temp\n",
    "    cd ../../\n",
    "done\n"
   ]
  },
  {
   "cell_type": "code",
   "execution_count": 5,
   "metadata": {},
   "outputs": [
    {
     "name": "stdout",
     "output_type": "stream",
     "text": [
      "2.408\n",
      "optical_calculation/2.408_eV\n"
     ]
    },
    {
     "data": {
      "image/png": "[encoded data removed]",
      "text/plain": [
       "<Figure size 432x288 with 1 Axes>"
      ]
     },
     "metadata": {
      "needs_background": "light"
     },
     "output_type": "display_data"
    }
   ],
   "source": [
    "spectrum = np.loadtxt('optical_calculation/Spectrum')\n",
    "plt.plot(spectrum[:,1], spectrum[:,3])\n",
    "idx = np.where(spectrum[:,3] == max(spectrum[:,3]))\n",
    "\n",
    "max_wave = np.round(1.240/spectrum[idx,1][0][0],3)\n",
    "print(max_wave)\n",
    "path = str('optical_calculation/')+str(max_wave)+str('_eV')\n",
    "print(path)"
   ]
  },
  {
   "cell_type": "markdown",
   "metadata": {},
   "source": [
    "## Thermal calculation\n"
   ]
  },
  {
   "cell_type": "code",
   "execution_count": 17,
   "metadata": {},
   "outputs": [],
   "source": [
    "%%bash \n",
    "\n",
    "cp optical_calculation/2.408_eV/qtable thermal_calc/qtable\n",
    "cd thermal_calc\n",
    "python sphere_qabs.py"
   ]
  },
  {
   "cell_type": "code",
   "execution_count": 18,
   "metadata": {},
   "outputs": [
    {
     "name": "stdout",
     "output_type": "stream",
     "text": [
      "512\n"
     ]
    }
   ],
   "source": [
    "%%bash \n",
    "cd thermal_calc\n",
    "../../../source_code/Lattice_Diffusion myGreen.num_300 var.par tdda_input temp.out\n"
   ]
  },
  {
   "cell_type": "code",
   "execution_count": 19,
   "metadata": {},
   "outputs": [
    {
     "data": {
      "text/plain": [
       "<matplotlib.image.AxesImage at 0x7fab71117760>"
      ]
     },
     "execution_count": 19,
     "metadata": {},
     "output_type": "execute_result"
    },
    {
     "data": {
      "image/png": "[encoded data removed]",
      "text/plain": [
       "<Figure size 432x288 with 1 Axes>"
      ]
     },
     "metadata": {
      "needs_background": "light"
     },
     "output_type": "display_data"
    }
   ],
   "source": [
    "temp_data = np.loadtxt('thermal_calc/temp.out')\n",
    "idx = np.where(temp_data[:,0] == -6)\n",
    "DS = 1\n",
    "y = temp_data[idx,1][0]*DS\n",
    "z = temp_data[idx,2][0]*DS\n",
    "T = temp_data[idx,3][0]\n",
    "\n",
    "idx_sort = np.lexsort((y, z))\n",
    "new_y = y[idx_sort]\n",
    "new_z = z[idx_sort]\n",
    "new_temps = T[idx_sort]\n",
    "y_wind = int(max(y/DS) - min(y/DS) + 1); z_wind = int(max(z/DS) - min(z/DS) + 1)\n",
    "temp_grid = new_temps.reshape(y_wind, z_wind, order='f')\n",
    "\n",
    "\n",
    "\n",
    "plt.imshow(temp_grid,origin='lower',cmap='inferno')\n",
    "\n"
   ]
  },
  {
   "cell_type": "code",
   "execution_count": 20,
   "metadata": {},
   "outputs": [
    {
     "data": {
      "text/plain": [
       "<matplotlib.collections.PathCollection at 0x7fab71408700>"
      ]
     },
     "execution_count": 20,
     "metadata": {},
     "output_type": "execute_result"
    },
    {
     "data": {
      "image/png": "[encoded data removed]",
      "text/plain": [
       "<Figure size 432x288 with 1 Axes>"
      ]
     },
     "metadata": {
      "needs_background": "light"
     },
     "output_type": "display_data"
    }
   ],
   "source": [
    "temp_data = np.loadtxt('thermal_calc/temp.out')\n",
    "idx = np.where((temp_data[:,0] == -6) & (temp_data[:,1] == 0 ))\n",
    "DS = 1\n",
    "y = temp_data[idx,1][0]*DS\n",
    "z = temp_data[idx,2][0]*DS\n",
    "T = temp_data[idx,3][0]\n",
    "\n",
    "plt.scatter(z, T)\n",
    "\n"
   ]
  },
  {
   "cell_type": "code",
   "execution_count": 33,
   "metadata": {},
   "outputs": [
    {
     "name": "stdout",
     "output_type": "stream",
     "text": [
      "1.121516\n",
      "1.1403\n"
     ]
    },
    {
     "data": {
      "image/png": "[encoded data removed]",
      "text/plain": [
       "<Figure size 432x288 with 1 Axes>"
      ]
     },
     "metadata": {
      "needs_background": "light"
     },
     "output_type": "display_data"
    }
   ],
   "source": [
    "withfields = np.loadtxt('../input_fields_and_pols/thermal_calc/temp.out')\n",
    "idx = np.where((withfields[:,0] == -6) & (withfields[:,1] == 0 ))\n",
    "DS = 1\n",
    "y = withfields[idx,1][0]*DS\n",
    "z = withfields[idx,2][0]*DS\n",
    "T = withfields[idx,3][0]\n",
    "\n",
    "plt.scatter(z, T,s=100, color='red')\n",
    "\n",
    "print(max(T))\n",
    "\n",
    "temp_data = np.loadtxt('thermal_calc/temp.out')\n",
    "idx = np.where((temp_data[:,0] == -6) & (temp_data[:,1] == 0 ))\n",
    "DS = 1\n",
    "y = temp_data[idx,1][0]*DS\n",
    "z = temp_data[idx,2][0]*DS\n",
    "T = temp_data[idx,3][0]\n",
    "\n",
    "plt.scatter(z, T)\n",
    "\n",
    "\n",
    "\n",
    "print(max(T))"
   ]
  },
  {
   "cell_type": "code",
   "execution_count": 42,
   "metadata": {},
   "outputs": [],
   "source": [
    "\n",
    "kap_out = 0.3 # thermal cond. of background [W/(m*K)]\n",
    "kap_in = 314 # thermal cond. of metal [W/(m*K)]\n",
    "I0 = 1E9 # incident intensity [W/m^2]\n",
    "r = 0 # evaluate T at center of sphere\n",
    "Q = (2.161258666037098e-05)*(10**-6)**2*I0 # [W]\n",
    "radius_m = 5.E-9 # [m]\n",
    "T = Q/(4*np.pi*kap_out*radius_m) + Q/(8*np.pi*kap_in*radius_m**3)*(radius_m**2-r**2)\n"
   ]
  },
  {
   "cell_type": "code",
   "execution_count": 43,
   "metadata": {},
   "outputs": [
    {
     "data": {
      "text/plain": [
       "1.1471310642250527"
      ]
     },
     "execution_count": 43,
     "metadata": {},
     "output_type": "execute_result"
    }
   ],
   "source": [
    "np.max(T)"
   ]
  },
  {
   "cell_type": "code",
   "execution_count": null,
   "metadata": {},
   "outputs": [],
   "source": []
  }
 ],
 "metadata": {
  "kernelspec": {
   "display_name": "Python 3",
   "language": "python",
   "name": "python3"
  },
  "language_info": {
   "codemirror_mode": {
    "name": "ipython",
    "version": 3
   },
   "file_extension": ".py",
   "mimetype": "text/x-python",
   "name": "python",
   "nbconvert_exporter": "python",
   "pygments_lexer": "ipython3",
   "version": "3.8.3"
  }
 },
 "nbformat": 4,
 "nbformat_minor": 4
}
