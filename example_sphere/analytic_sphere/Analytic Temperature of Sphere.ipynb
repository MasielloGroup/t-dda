{
 "cells": [
  {
   "cell_type": "code",
   "execution_count": 1,
   "metadata": {},
   "outputs": [],
   "source": [
    "import numpy as np\n",
    "import matplotlib.pyplot as plt\n",
    "from single_sphere_analytics import SingleDipole\n"
   ]
  },
  {
   "cell_type": "markdown",
   "metadata": {},
   "source": [
    "## Calculate Temperature at Specific Wavelength\n",
    "Note: this is using Mie theory as the absorption cross section value. "
   ]
  },
  {
   "cell_type": "code",
   "execution_count": 2,
   "metadata": {},
   "outputs": [
    {
     "name": "stdout",
     "output_type": "stream",
     "text": [
      "Abs. Cross-section 4.673994862575846e-13  nm\n",
      "T =  1.25\n"
     ]
    }
   ],
   "source": [
    "radius = 5.E-7 # cm\n",
    "wavelength = 532.E-7 # cm\n",
    "n_back = 1.333\n",
    "kappa_background = 0.598\n",
    "kappa_metal = 314.\n",
    "I0 = 1E9 # W/m^2\n",
    "sphere = SingleDipole(radius=radius, \n",
    "                      n=n_back, \n",
    "                      selected_waves=np.array([wavelength]),\n",
    "                     )\n",
    "print('Abs. Cross-section', sphere.cross_sects()[0], ' nm')\n",
    "print('T = ', np.round(sphere.T_int(kap_out=kappa_background, \n",
    "                                    kap_in=kappa_metal, \n",
    "                                    I0=I0,\n",
    "                                    mie_or_dda='mie')[0], 2))"
   ]
  },
  {
   "cell_type": "markdown",
   "metadata": {},
   "source": [
    "## Temperature from DDA Cross Section\n",
    "DDA is not exact. The calculated absorption cross section values will be different than Mie theory. This section allows you to input the DDA absorption cross section."
   ]
  },
  {
   "cell_type": "code",
   "execution_count": 3,
   "metadata": {},
   "outputs": [
    {
     "name": "stdout",
     "output_type": "stream",
     "text": [
      "T =  1.35\n"
     ]
    }
   ],
   "source": [
    "print('T = ', np.round(sphere.T_int(kap_out=kappa_background, \n",
    "                                    kap_in=kappa_metal, \n",
    "                                    I0=I0,\n",
    "                                    mie_or_dda='dda',\n",
    "                                    c_abs=6.4568E-01,\n",
    "                                    a_eff=0.005), 2))"
   ]
  },
  {
   "cell_type": "code",
   "execution_count": null,
   "metadata": {},
   "outputs": [],
   "source": []
  }
 ],
 "metadata": {
  "kernelspec": {
   "display_name": "Python 3 (ipykernel)",
   "language": "python",
   "name": "python3"
  },
  "language_info": {
   "codemirror_mode": {
    "name": "ipython",
    "version": 3
   },
   "file_extension": ".py",
   "mimetype": "text/x-python",
   "name": "python",
   "nbconvert_exporter": "python",
   "pygments_lexer": "ipython3",
   "version": "3.8.11"
  }
 },
 "nbformat": 4,
 "nbformat_minor": 4
}
