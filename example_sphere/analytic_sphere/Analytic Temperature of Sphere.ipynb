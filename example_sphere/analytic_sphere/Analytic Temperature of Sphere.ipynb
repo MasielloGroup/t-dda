{
 "cells": [
  {
   "cell_type": "markdown",
   "metadata": {},
   "source": [
    "# Steady-State Temperature of a Sphere\n",
    "The following Jupyter notebook contains a recipe for solving analytically for the temperature increase of an absorbing sphere, and comparing this solution to the numeric results from `t-dda`. Two approaches have been outlined below with either use Mie Theory or the Discrete Dipole Approximation to calculate the power absorbed by the sphere. Both approaches use the solution:\n",
    "\n",
    "$$\n",
    "T_\\textrm{sph} = \\frac{P_\\textrm{abs}}{4 \\pi \\kappa_{back} a} + \\frac{P_\\textrm{abs}}{8 \\pi \\kappa_\\textrm{sph} a^3 }(a^2-r^2) \n",
    "$$\n",
    "\n"
   ]
  },
  {
   "cell_type": "code",
   "execution_count": 1,
   "metadata": {},
   "outputs": [],
   "source": [
    "import numpy as np\n",
    "import matplotlib.pyplot as plt\n",
    "from single_sphere_analytics import SingleDipole"
   ]
  },
  {
   "cell_type": "markdown",
   "metadata": {},
   "source": [
    "## Calculate Temperature at Specific Wavelength\n",
    "When comparing to `t-dda` results, make sure these values match the values specified in `var.par`."
   ]
  },
  {
   "cell_type": "code",
   "execution_count": 2,
   "metadata": {},
   "outputs": [],
   "source": [
    "radius = 10.E-7 # cm\n",
    "wavelength = 505.E-7 # cm\n",
    "n_back = 1.\n",
    "kappa_background = 0.3\n",
    "kappa_metal = 314.\n",
    "I0 = 1E9 # W/m^2\n",
    "sphere = SingleDipole(radius=radius, \n",
    "                      n=n_back, \n",
    "                      selected_waves=np.array([wavelength]),\n",
    "                     )"
   ]
  },
  {
   "cell_type": "markdown",
   "metadata": {},
   "source": [
    "## Temperature from Mie Theory\n",
    "This approaches calculates the power absorbed, $P_\\textrm{abs}$, using Mie Theory.\n",
    "\n",
    "$$\n",
    "P_\\textrm{abs} = \\sigma_\\textrm{abs}^\\textrm{Mie} I_0\n",
    "$$\n"
   ]
  },
  {
   "cell_type": "code",
   "execution_count": 3,
   "metadata": {},
   "outputs": [
    {
     "name": "stdout",
     "output_type": "stream",
     "text": [
      "Abs. Cross-section 1.36e-12  nm\n",
      "T =  3.6 Celsius\n"
     ]
    }
   ],
   "source": [
    "print('Abs. Cross-section', \"%.2e\" % sphere.cross_sects()[0], ' nm')\n",
    "print('T = ', np.round(sphere.T_int(kap_out=kappa_background, \n",
    "                                    kap_in=kappa_metal, \n",
    "                                    I0=I0,\n",
    "                                    mie_or_dda='mie')[0], 1), 'Celsius')"
   ]
  },
  {
   "cell_type": "markdown",
   "metadata": {},
   "source": [
    "## Temperature from DDA Cross Section\n",
    "This approaches calculates the power absorbed, $P_\\textrm{abs}$, using Draine's Discrete Dipole Approximation.\n",
    "\n",
    "$$\n",
    "P_\\textrm{abs} = \\sigma_\\textrm{abs}^\\textrm{DDA} I_0\n",
    "$$\n",
    "\n",
    "Before running the next cell, go to `../input_fp` and run the Jupyter notebook there in order to create the necessary input files."
   ]
  },
  {
   "cell_type": "code",
   "execution_count": 4,
   "metadata": {},
   "outputs": [
    {
     "name": "stdout",
     "output_type": "stream",
     "text": [
      "T =  3.9 Celsius\n"
     ]
    }
   ],
   "source": [
    "print('T = ', np.round(sphere.T_int(kap_out=kappa_background, \n",
    "                                    kap_in=kappa_metal, \n",
    "                                    I0=I0,\n",
    "                                    mie_or_dda='dda',\n",
    "                                    wave_dda=str(0.505))\n",
    "                                    ,1), 'Celsius')"
   ]
  },
  {
   "cell_type": "markdown",
   "metadata": {},
   "source": [
    "## Temperature from `t-dda`\n"
   ]
  },
  {
   "cell_type": "code",
   "execution_count": 5,
   "metadata": {},
   "outputs": [
    {
     "name": "stdout",
     "output_type": "stream",
     "text": [
      "T =  3.9 Celsius\n"
     ]
    }
   ],
   "source": [
    "t_dda_data = np.loadtxt('../input_fp/temp.out')\n",
    "print(str('T = '), np.round(t_dda_data[0,3],1), 'Celsius')"
   ]
  },
  {
   "cell_type": "code",
   "execution_count": null,
   "metadata": {},
   "outputs": [],
   "source": []
  }
 ],
 "metadata": {
  "kernelspec": {
   "display_name": "Python 3 (ipykernel)",
   "language": "python",
   "name": "python3"
  },
  "language_info": {
   "codemirror_mode": {
    "name": "ipython",
    "version": 3
   },
   "file_extension": ".py",
   "mimetype": "text/x-python",
   "name": "python",
   "nbconvert_exporter": "python",
   "pygments_lexer": "ipython3",
   "version": "3.8.11"
  }
 },
 "nbformat": 4,
 "nbformat_minor": 4
}
