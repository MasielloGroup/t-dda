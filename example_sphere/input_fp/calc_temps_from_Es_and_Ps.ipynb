{
 "cells": [
  {
   "cell_type": "code",
   "execution_count": 1,
   "metadata": {},
   "outputs": [],
   "source": [
    "import numpy as np\n",
    "import matplotlib.pyplot as plt"
   ]
  },
  {
   "cell_type": "markdown",
   "metadata": {},
   "source": [
    "## Optical calculation\n",
    "I often like to drive my systems at / near the plasmon resonance. To find it, we can run a spectrum using `g-dda.` \n",
    "### Step 1: Define shape and make directories\n",
    "Set the lattice spacing and radius of the sphere, and make the input files in the following lines. "
   ]
  },
  {
   "cell_type": "code",
   "execution_count": 2,
   "metadata": {},
   "outputs": [
    {
     "data": {
      "image/png": "[encoded data removed]",
      "text/plain": [
       "<Figure size 432x288 with 1 Axes>"
      ]
     },
     "metadata": {
      "needs_background": "light"
     },
     "output_type": "display_data"
    }
   ],
   "source": [
    "from make_sphere import Generate_Sphere\n",
    "\n",
    "lat_space = 1 # lattice spacing in nm\n",
    "radius = 5 # radius of sphere in nm\n",
    "\n",
    "gen_shape = Generate_Sphere(lat_space=lat_space, radius_nm=radius)\n",
    "gen_shape.write_shape() # write the shape to a file\n",
    "gen_shape.plot_shape() # plots the shape"
   ]
  },
  {
   "cell_type": "markdown",
   "metadata": {},
   "source": [
    "### Step 2: Make directories\n",
    "After the shape is made, edit ddscat.par normally. (I haven't made anything fancy yet, so you'll have to go into that file and edit it by hand for now. Once you've edited ddscat.par appropriately, the function `make_directories` will make `num` number of folders which will contain your scattering calculations for each wavelength / energy."
   ]
  },
  {
   "cell_type": "code",
   "execution_count": 3,
   "metadata": {},
   "outputs": [],
   "source": [
    "from make_dirs import make_directories\n",
    "\n",
    "make_directories(intermsof='eV', # eV or nm, only eV for now\n",
    "                 start=2, # start spectrum at 2.0 eV\n",
    "                 finish=3, # end spectrum at 3.0 eV\n",
    "                 num=50 # 50 points in between \n",
    "                )"
   ]
  },
  {
   "cell_type": "markdown",
   "metadata": {},
   "source": [
    "### Step 3: Run scattering calculation\n",
    "Change this path to wherever you've kept the `g-dda` executables. This will run all the `num` number of calculations. On a laptop, it should take less than a minute. "
   ]
  },
  {
   "cell_type": "code",
   "execution_count": 4,
   "metadata": {},
   "outputs": [],
   "source": [
    "%%bash\n",
    "for i in *eV ; do\n",
    "    cd $i\n",
    "    ../../../../g-dda/source_code/ddscat &> output.txt\n",
    "    cd ../\n",
    "done"
   ]
  },
  {
   "cell_type": "code",
   "execution_count": 5,
   "metadata": {},
   "outputs": [],
   "source": [
    "%%bash\n",
    "# Collect all the files and write it to a file named Spectrum\n",
    "for i in *eV ;do\n",
    "    cd $i\n",
    "    cp qtable temp\n",
    "    sed -i -e \"1,14d\" temp\n",
    "    cat temp >>../Spectrum\n",
    "    rm temp\n",
    "    cd ../\n",
    "done"
   ]
  },
  {
   "cell_type": "markdown",
   "metadata": {},
   "source": [
    "### Step 4: Plot spectrum and find resonance"
   ]
  },
  {
   "cell_type": "code",
   "execution_count": 6,
   "metadata": {},
   "outputs": [
    {
     "name": "stdout",
     "output_type": "stream",
     "text": [
      "2.408\n"
     ]
    },
    {
     "data": {
      "image/png": "[encoded data removed]",
      "text/plain": [
       "<Figure size 432x288 with 1 Axes>"
      ]
     },
     "metadata": {
      "needs_background": "light"
     },
     "output_type": "display_data"
    }
   ],
   "source": [
    "spectrum = np.loadtxt('Spectrum')\n",
    "plt.scatter(spectrum[:,1]*1000, spectrum[:,3])\n",
    "plt.xlabel('Wavelength [nm]')\n",
    "plt.ylabel('Abs. Eff. [a.u.]')\n",
    "idx = np.where(spectrum[:,3] == max(spectrum[:,3]))\n",
    "\n",
    "max_wave = np.round(1.240/spectrum[idx,1][0][0],3)\n",
    "print(max_wave)\n"
   ]
  },
  {
   "cell_type": "markdown",
   "metadata": {},
   "source": [
    "### Step 5: Copy inputs and run t-dda\n",
    "Once you've identified the maximum wavelength / energy, or the wavelength / energy you'd like to run the temperature calculation at, copy those files to a new directory and run `t-dda`. For the above specifications, `t-dda` should run on a laptop in less than a minute.\n"
   ]
  },
  {
   "cell_type": "code",
   "execution_count": 7,
   "metadata": {},
   "outputs": [
    {
     "name": "stdout",
     "output_type": "stream",
     "text": [
      "512\n"
     ]
    }
   ],
   "source": [
    "%%bash \n",
    "\n",
    "cp 2.408_eV/tdda_input_w000_ddscat.par tdda_input\n",
    "\n",
    "../../source_code/Lattice_Diffusion ../../lattice_greenfunction/Green.num_300x300x300 var.par tdda_input temp.out\n"
   ]
  },
  {
   "cell_type": "markdown",
   "metadata": {},
   "source": [
    "### Step 6: Plot the temperature maps\n",
    "`t-dda` is hardcoded to calculate the temperatures of all the discrete dipoles, as well as any points along the plane specified in the last line of `var.par`. We will plot this plane as a 2D image, or as a 1D slice in the codes below. "
   ]
  },
  {
   "cell_type": "code",
   "execution_count": 8,
   "metadata": {},
   "outputs": [
    {
     "data": {
      "text/plain": [
       "<matplotlib.image.AxesImage at 0x7f9152084d00>"
      ]
     },
     "execution_count": 8,
     "metadata": {},
     "output_type": "execute_result"
    },
    {
     "data": {
      "image/png": "[encoded data removed]",
      "text/plain": [
       "<Figure size 432x288 with 1 Axes>"
      ]
     },
     "metadata": {
      "needs_background": "light"
     },
     "output_type": "display_data"
    }
   ],
   "source": [
    "temp_data = np.loadtxt('temp.out')\n",
    "idx = np.where(temp_data[:,0] == -6)\n",
    "DS = 1\n",
    "y = temp_data[idx,1][0]*DS\n",
    "z = temp_data[idx,2][0]*DS\n",
    "T = temp_data[idx,3][0]\n",
    "\n",
    "idx_sort = np.lexsort((y, z))\n",
    "new_y = y[idx_sort]\n",
    "new_z = z[idx_sort]\n",
    "new_temps = T[idx_sort]\n",
    "y_wind = int(max(y/DS) - min(y/DS) + 1); z_wind = int(max(z/DS) - min(z/DS) + 1)\n",
    "temp_grid = new_temps.reshape(y_wind, z_wind, order='f')\n",
    "\n",
    "\n",
    "\n",
    "plt.imshow(temp_grid,origin='lower',cmap='inferno')\n",
    "\n"
   ]
  },
  {
   "cell_type": "code",
   "execution_count": 9,
   "metadata": {},
   "outputs": [
    {
     "data": {
      "text/plain": [
       "<matplotlib.collections.PathCollection at 0x7f91529fb1c0>"
      ]
     },
     "execution_count": 9,
     "metadata": {},
     "output_type": "execute_result"
    },
    {
     "data": {
      "image/png": "[encoded data removed]",
      "text/plain": [
       "<Figure size 432x288 with 1 Axes>"
      ]
     },
     "metadata": {
      "needs_background": "light"
     },
     "output_type": "display_data"
    }
   ],
   "source": [
    "temp_data = np.loadtxt('temp.out')\n",
    "idx = np.where((temp_data[:,0] == -6) & (temp_data[:,1] == 0 ))\n",
    "DS = 1\n",
    "y = temp_data[idx,1][0]*DS\n",
    "z = temp_data[idx,2][0]*DS\n",
    "T = temp_data[idx,3][0]\n",
    "\n",
    "plt.scatter(z, T)\n",
    "\n"
   ]
  },
  {
   "cell_type": "code",
   "execution_count": null,
   "metadata": {},
   "outputs": [],
   "source": []
  }
 ],
 "metadata": {
  "kernelspec": {
   "display_name": "Python 3",
   "language": "python",
   "name": "python3"
  },
  "language_info": {
   "codemirror_mode": {
    "name": "ipython",
    "version": 3
   },
   "file_extension": ".py",
   "mimetype": "text/x-python",
   "name": "python",
   "nbconvert_exporter": "python",
   "pygments_lexer": "ipython3",
   "version": "3.8.3"
  }
 },
 "nbformat": 4,
 "nbformat_minor": 4
}
