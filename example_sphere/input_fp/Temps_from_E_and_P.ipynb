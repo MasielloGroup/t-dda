{
 "cells": [
  {
   "cell_type": "markdown",
   "metadata": {},
   "source": [
    "# Temperatures from Electric Fields and Polarizations\n",
    "The following notebook walks through the procedure for calcuating the steady-state temperture rise from a 10 nm radius sphere at its LSP resonance. This procedure, is general enough that one may make arbitary shape files with multiple, different shaped nanoparticles. (Note that the other approach, in folder `input_acs`, will only work for particles of identical shape.) \n",
    "\n",
    "The approach used herein uses the electric fields and polarizations of each dipole to calculate the absorption cross-section per particle $j$, according to:\n",
    "\n",
    "$$\n",
    "\\sigma_{\\textrm{abs}, j} = 4 \\pi k \\sum_{j=1}^N \\Big ( \\textrm{Im} \\big [ \\textbf{P}_j \\cdot \\textbf{E}_j^* \\big ] - \\frac{2}{3} k^3 \\textbf{P}_j \\cdot \\textbf{P}_j^* \\Big ) \n",
    "$$\n",
    "\n",
    "In order to run this notebook, you should install the version of Draine's discrete dipole approximation in the repo [MasielloGroup/g-dda](http://github.com/MasielloGroup/g-dda). It is not required that you use this version, however it has currently been modified to create the appropriate output file. (To install `g-dda`, you must have a Fortran compiler installed.)"
   ]
  },
  {
   "cell_type": "code",
   "execution_count": 11,
   "metadata": {},
   "outputs": [],
   "source": [
    "import numpy as np\n",
    "import matplotlib.pyplot as plt"
   ]
  },
  {
   "cell_type": "markdown",
   "metadata": {},
   "source": [
    "## Optical calculation\n",
    "The first step in calculating the temperture resulting from the nonradiative decay of the LSP is to run an optical calculation to determine, in this procedure, the electric fields and polarizations of each dipole in the system. This can be solved for by running a modified version of Draine's Discrete Dipole Approximation linked above. To make this calculation at the LSP resonance, the first step is to run a spectrum to find the wavelength of this resonance. \n",
    "\n",
    "### Step 1: Define shape and make directories\n",
    "Set the lattice spacing and radius of the sphere, and make the input files in the following lines. "
   ]
  },
  {
   "cell_type": "code",
   "execution_count": 12,
   "metadata": {},
   "outputs": [
    {
     "data": {
      "image/png": "[encoded data removed]",
      "text/plain": [
       "<Figure size 432x288 with 1 Axes>"
      ]
     },
     "metadata": {
      "needs_background": "light"
     },
     "output_type": "display_data"
    }
   ],
   "source": [
    "from make_sphere import Generate_Sphere\n",
    "\n",
    "lat_space = 1 # lattice spacing in nm\n",
    "radius = 10 # radius of sphere in nm\n",
    "\n",
    "gen_shape = Generate_Sphere(lat_space=lat_space, radius_nm=radius)\n",
    "gen_shape.write_shape() # write the shape to a file\n",
    "gen_shape.plot_shape() # plots the shape"
   ]
  },
  {
   "cell_type": "code",
   "execution_count": 13,
   "metadata": {},
   "outputs": [],
   "source": [
    "# Delete any previously run folders\n",
    "from make_dirs import make_directories\n",
    "import shutil\n",
    "import glob\n",
    "\n",
    "files = glob.glob('*um')\n",
    "for f in files:\n",
    "    shutil.rmtree(f)"
   ]
  },
  {
   "cell_type": "markdown",
   "metadata": {},
   "source": [
    "### Step 2: Make directories\n",
    "After the shape is made, edit ddscat.par normally. (I haven't made anything fancy yet, so you'll have to go into that file and edit it by hand for now. Once you've edited ddscat.par appropriately, the function `make_directories` will make `num` number of folders which will contain your scattering calculations for each wavelength / energy."
   ]
  },
  {
   "cell_type": "code",
   "execution_count": 14,
   "metadata": {},
   "outputs": [],
   "source": [
    "from make_dirs import make_directories\n",
    "\n",
    "make_directories(intermsof='um', # eV or nm, only eV for now\n",
    "                 start=0.4, # start spectrum at 2.0 eV\n",
    "                 finish=0.7, # end spectrum at 3.0 eV\n",
    "                 num=21 # 50 points in between \n",
    "                )"
   ]
  },
  {
   "cell_type": "markdown",
   "metadata": {},
   "source": [
    "### Step 2.5: Edit `ddscat.par`\n",
    "Make sure the file `ddscat.par` is updated as described in the `README.md`. The vacuum wavelength does not need to be updated, as it will be changed in the scripts below to create a spectrum. "
   ]
  },
  {
   "cell_type": "markdown",
   "metadata": {},
   "source": [
    "### Step 3: Run scattering calculation\n",
    "Change this path to wherever you've kept the `g-dda` executables. This will run all the `num` number of calculations. On a laptop, it should take less than a minute. "
   ]
  },
  {
   "cell_type": "code",
   "execution_count": 15,
   "metadata": {},
   "outputs": [],
   "source": [
    "%%bash\n",
    "for i in *um ; do\n",
    "    cd $i\n",
    "    ../../../../git_repos_masiello/g-dda/source_code/ddscat &> output.txt\n",
    "    cd ../\n",
    "done"
   ]
  },
  {
   "cell_type": "code",
   "execution_count": 16,
   "metadata": {},
   "outputs": [],
   "source": [
    "%%bash\n",
    "# Collect all the files and write it to a file named Spectrum\n",
    "for i in *um ;do\n",
    "    cd $i\n",
    "    cp qtable temp\n",
    "    sed -i -e \"1,14d\" temp\n",
    "    cat temp >>../Spectrum\n",
    "    rm temp\n",
    "    cd ../\n",
    "done"
   ]
  },
  {
   "cell_type": "markdown",
   "metadata": {},
   "source": [
    "### Step 4: Plot spectrum and find resonance"
   ]
  },
  {
   "cell_type": "code",
   "execution_count": 17,
   "metadata": {},
   "outputs": [
    {
     "name": "stdout",
     "output_type": "stream",
     "text": [
      "0.505\n"
     ]
    },
    {
     "data": {
      "image/png": "[encoded data removed]",
      "text/plain": [
       "<Figure size 432x288 with 1 Axes>"
      ]
     },
     "metadata": {
      "needs_background": "light"
     },
     "output_type": "display_data"
    }
   ],
   "source": [
    "spectrum = np.loadtxt('Spectrum')\n",
    "plt.scatter(spectrum[:,1]*1000, spectrum[:,3])\n",
    "plt.xlabel('Wavelength [nm]')\n",
    "plt.ylabel('Abs. Eff. [a.u.]')\n",
    "idx = np.where(spectrum[:,3] == max(spectrum[:,3]))\n",
    "max_wave = np.round(spectrum[idx,1][0][0],3)\n",
    "print(max_wave)"
   ]
  },
  {
   "cell_type": "markdown",
   "metadata": {},
   "source": [
    "### Step 4.5: Edit `var.par`\n",
    "Edit the file, `var.par` according to the system parameters you'd like to set. A description of the parameters in the file can be found in the `README.md`.\n"
   ]
  },
  {
   "cell_type": "markdown",
   "metadata": {},
   "source": [
    "### Step 5: Copy inputs and run t-dda\n",
    "Once you've identified the maximum wavelength / energy, or the wavelength / energy you'd like to run the temperature calculation at, copy those files to a new directory and run `t-dda`. For the above specifications, `t-dda` should run on a laptop in less than a minute.\n"
   ]
  },
  {
   "cell_type": "code",
   "execution_count": 21,
   "metadata": {},
   "outputs": [],
   "source": [
    "%%bash -s \"$max_wave\" \n",
    "cp $1_um/tdda_input_w000_ddscat.par tdda_input # Copy files from the wavelength of maximum absorption\n",
    "../../source_code/Lattice_Diffusion ../../lattice_greenfunction/Green_grid100.txt var.par tdda_input temp.out\n"
   ]
  },
  {
   "cell_type": "markdown",
   "metadata": {},
   "source": [
    "### Step 6: Plot the temperature maps\n",
    "`t-dda` is hardcoded to calculate the temperatures of all the discrete dipoles, as well as any points along the plane specified in the last line of `var.par`. We will plot this plane as a 2D image, or as a 1D slice in the codes below. "
   ]
  },
  {
   "cell_type": "code",
   "execution_count": 22,
   "metadata": {},
   "outputs": [
    {
     "data": {
      "text/plain": [
       "<matplotlib.colorbar.Colorbar at 0x7fd8c29c2bb0>"
      ]
     },
     "execution_count": 22,
     "metadata": {},
     "output_type": "execute_result"
    },
    {
     "data": {
      "image/png": "[encoded data removed]",
      "text/plain": [
       "<Figure size 432x288 with 2 Axes>"
      ]
     },
     "metadata": {
      "needs_background": "light"
     },
     "output_type": "display_data"
    }
   ],
   "source": [
    "temp_data = np.loadtxt('temp.out')\n",
    "idx = np.where(temp_data[:,0] == -6)\n",
    "DS = 1\n",
    "y = temp_data[idx,1][0]*DS\n",
    "z = temp_data[idx,2][0]*DS\n",
    "T = temp_data[idx,3][0]\n",
    "\n",
    "idx_sort = np.lexsort((y, z))\n",
    "new_y = y[idx_sort]\n",
    "new_z = z[idx_sort]\n",
    "new_temps = T[idx_sort]\n",
    "y_wind = int(max(y/DS) - min(y/DS) + 1); z_wind = int(max(z/DS) - min(z/DS) + 1)\n",
    "temp_grid = new_temps.reshape(z_wind, y_wind, order='c')\n",
    "plt.imshow(temp_grid,origin='lower',cmap='inferno')\n",
    "plt.colorbar(label='$\\Delta$ T')"
   ]
  },
  {
   "cell_type": "code",
   "execution_count": 23,
   "metadata": {},
   "outputs": [
    {
     "name": "stdout",
     "output_type": "stream",
     "text": [
      "Temp. of metal: 3.92 K\n"
     ]
    },
    {
     "data": {
      "image/png": "[encoded data removed]",
      "text/plain": [
       "<Figure size 432x288 with 1 Axes>"
      ]
     },
     "metadata": {
      "needs_background": "light"
     },
     "output_type": "display_data"
    }
   ],
   "source": [
    "temp_data = np.loadtxt('temp.out')\n",
    "idx = np.where((temp_data[:,0] == -6) & (temp_data[:,1] == 0 ))\n",
    "DS = 1\n",
    "y = temp_data[idx,1][0]*DS\n",
    "z = temp_data[idx,2][0]*DS\n",
    "T = temp_data[idx,3][0]\n",
    "plt.scatter(z, T)\n",
    "print('Temp. of metal:', np.round(max(T),2), 'K')"
   ]
  },
  {
   "cell_type": "code",
   "execution_count": null,
   "metadata": {},
   "outputs": [],
   "source": []
  }
 ],
 "metadata": {
  "kernelspec": {
   "display_name": "Python 3 (ipykernel)",
   "language": "python",
   "name": "python3"
  },
  "language_info": {
   "codemirror_mode": {
    "name": "ipython",
    "version": 3
   },
   "file_extension": ".py",
   "mimetype": "text/x-python",
   "name": "python",
   "nbconvert_exporter": "python",
   "pygments_lexer": "ipython3",
   "version": "3.8.11"
  }
 },
 "nbformat": 4,
 "nbformat_minor": 4
}
