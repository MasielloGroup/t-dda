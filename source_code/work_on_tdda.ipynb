{
 "cells": [
  {
   "cell_type": "code",
   "execution_count": 4,
   "metadata": {},
   "outputs": [],
   "source": [
    "import numpy as np\n",
    "import matplotlib.pyplot as plt"
   ]
  },
  {
   "cell_type": "code",
   "execution_count": 5,
   "metadata": {},
   "outputs": [
    {
     "name": "stdout",
     "output_type": "stream",
     "text": [
      "rm *.o Lattice_Diffusion\n",
      "gcc -c -Wall -iquote/usr/local/lib/include Lattice_Diffusion.c\n",
      "gcc -c -Wall -iquote/usr/local/lib/include find_neighbor.c\n",
      "gcc Lattice_Diffusion.o find_neighbor.o -o Lattice_Diffusion -L/usr/local/gfortran/lib -lgfortran -llapack -lblas -lm\n"
     ]
    }
   ],
   "source": [
    "%%bash\n",
    "make clean\n",
    "make all"
   ]
  },
  {
   "cell_type": "code",
   "execution_count": 6,
   "metadata": {},
   "outputs": [],
   "source": [
    "%%bash\n",
    "\n",
    "./Lattice_Diffusion ../lattice_greenfunction/Green.num_20x20x20 ../example_sphere/input_acs/var.par ../example_sphere/input_acs/tdda_input temp.out\n"
   ]
  },
  {
   "cell_type": "code",
   "execution_count": null,
   "metadata": {},
   "outputs": [],
   "source": []
  }
 ],
 "metadata": {
  "kernelspec": {
   "display_name": "Python 3",
   "language": "python",
   "name": "python3"
  },
  "language_info": {
   "codemirror_mode": {
    "name": "ipython",
    "version": 3
   },
   "file_extension": ".py",
   "mimetype": "text/x-python",
   "name": "python",
   "nbconvert_exporter": "python",
   "pygments_lexer": "ipython3",
   "version": "3.8.3"
  }
 },
 "nbformat": 4,
 "nbformat_minor": 4
}
