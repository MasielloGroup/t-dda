{
 "cells": [
  {
   "cell_type": "code",
   "execution_count": 5,
   "metadata": {},
   "outputs": [],
   "source": [
    "import scipy.integrate as integrate\n",
    "import scipy.special as special\n",
    "import numpy as np"
   ]
  },
  {
   "cell_type": "code",
   "execution_count": 9,
   "metadata": {},
   "outputs": [
    {
     "name": "stdout",
     "output_type": "stream",
     "text": [
      "(nan, nan)\n"
     ]
    },
    {
     "name": "stderr",
     "output_type": "stream",
     "text": [
      "<ipython-input-9-1be92764e6f5>:4: RuntimeWarning: overflow encountered in double_scalars\n",
      "  result = integrate.quad(lambda x: np.exp(-3.*x)*special.iv(0,x)**3, 0, np.inf)\n",
      "<ipython-input-9-1be92764e6f5>:4: RuntimeWarning: invalid value encountered in double_scalars\n",
      "  result = integrate.quad(lambda x: np.exp(-3.*x)*special.iv(0,x)**3, 0, np.inf)\n",
      "<ipython-input-9-1be92764e6f5>:4: IntegrationWarning: The occurrence of roundoff error is detected, which prevents \n",
      "  the requested tolerance from being achieved.  The error may be \n",
      "  underestimated.\n",
      "  result = integrate.quad(lambda x: np.exp(-3.*x)*special.iv(0,x)**3, 0, np.inf)\n"
     ]
    }
   ],
   "source": [
    "# def integrand(x):\n",
    "#     return np.exp(-3*x)*special.iv(0,x)**3\n",
    "\n",
    "result = integrate.quad(lambda x: np.exp(-3.*x)*special.iv(0,x)**3, 0, np.inf)\n",
    "print(result)"
   ]
  },
  {
   "cell_type": "code",
   "execution_count": null,
   "metadata": {},
   "outputs": [],
   "source": [
    "Exp[-3*x]*BesselI[0, x]*BesselI[0, x]*\n",
    " BesselI[0, x], {x, 0, \\[Infinity]},"
   ]
  }
 ],
 "metadata": {
  "kernelspec": {
   "display_name": "Python 3",
   "language": "python",
   "name": "python3"
  },
  "language_info": {
   "codemirror_mode": {
    "name": "ipython",
    "version": 3
   },
   "file_extension": ".py",
   "mimetype": "text/x-python",
   "name": "python",
   "nbconvert_exporter": "python",
   "pygments_lexer": "ipython3",
   "version": "3.8.3"
  }
 },
 "nbformat": 4,
 "nbformat_minor": 4
}
